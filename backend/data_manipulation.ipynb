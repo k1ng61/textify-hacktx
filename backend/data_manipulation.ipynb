{
 "cells": [
  {
   "cell_type": "code",
   "execution_count": 21,
   "metadata": {},
   "outputs": [
    {
     "name": "stderr",
     "output_type": "stream",
     "text": [
      "/var/folders/y6/qgck3sfd36l3cx6gwyjzjhz00000gn/T/ipykernel_49945/1315654102.py:8: DtypeWarning: Columns (1,2,3) have mixed types. Specify dtype option on import or set low_memory=False.\n",
      "  df = pd.read_csv(input_file)\n"
     ]
    },
    {
     "name": "stdout",
     "output_type": "stream",
     "text": [
      "Columns 'text' and 'tweet_id' removed from the CSV file. Result saved in /Users/rohannayak/Downloads/fixed_first.csv\n"
     ]
    }
   ],
   "source": [
    "import pandas as pd\n",
    "\n",
    "# Load your CSV data into a DataFrame\n",
    "df = pd.read_csv('/Users/rohannayak/Downloads/sample.csv')  # Replace with your actual file path\n",
    "\n",
    "# Sort the data by 'created_at' column\n",
    "df['created_at'] = pd.to_datetime(df['created_at'])\n",
    "df = df.sort_values(by=['author_id', 'created_at'])\n",
    "\n",
    "# Initialize variables for tracking conversations\n",
    "current_conversation = []\n",
    "conversations = []\n",
    "\n",
    "# Iterate through the sorted data\n",
    "for index, row in df.iterrows():\n",
    "    if not row['inbound']:\n",
    "        # Start of a new conversation\n",
    "        current_conversation = [row]\n",
    "    elif current_conversation:\n",
    "        # Continue the current conversation\n",
    "        current_conversation.append(row)\n",
    "    if not row['inbound'] or index == df.index[-1]:\n",
    "        # End of the current conversation or the last message\n",
    "        if current_conversation:\n",
    "            conversations.append(current_conversation)\n",
    "        current_conversation = []\n",
    "\n",
    "# Now, 'conversations' contains a list of conversations, and each conversation is a list of rows/messages.\n"
   ]
  }
 ],
 "metadata": {
  "kernelspec": {
   "display_name": "Python 3.9.6 64-bit",
   "language": "python",
   "name": "python3"
  },
  "language_info": {
   "name": "python",
   "version": "3.9.6"
  },
  "orig_nbformat": 4,
  "vscode": {
   "interpreter": {
    "hash": "31f2aee4e71d21fbe5cf8b01ff0e069b9275f58929596ceb00d14d90e3e16cd6"
   }
  }
 },
 "nbformat": 4,
 "nbformat_minor": 2
}
